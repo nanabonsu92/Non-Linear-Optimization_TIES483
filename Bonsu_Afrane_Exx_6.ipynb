{
 "cells": [
  {
   "attachments": {},
   "cell_type": "markdown",
   "metadata": {},
   "source": [
    "## Exercises 6\n"
   ]
  },
  {
   "attachments": {},
   "cell_type": "markdown",
   "metadata": {},
   "source": [
    "## Task6-1\n",
    "1. **(2 points)** Study multiobjective optimization problem\n",
    "$$\n",
    "\\begin{align}\n",
    "\\min & \\{\\|x-(1,0)\\|^2,\\|x-(0,1)\\|^2\\}\\\\\n",
    "\\text{s.t. }&x\\in \\mathbb R^2.\n",
    "\\end{align}\n",
    "$$\n",
    "Characterize algebraically  (i.e. give a mathematical formulation) the full set of Pareto optimal solutions."
   ]
  },
  {
   "attachments": {},
   "cell_type": "markdown",
   "metadata": {},
   "source": [
    "## Solution6-1\n",
    "\n",
    "$$\n",
    "\\begin{align}\n",
    "f_1(x) = ||x-(1,0)||^2 >=0 \\\\\n",
    "f_2(x) = ||x-(0,1)||^2 >=0 \\\\\n",
    "\\text{pareto optimal solution is (1,0),(0,1)} \\\\\n",
    "\\text{ the set of Pareto optimal solutions is} \\\\\n",
    "\\{ (x,1-x):x\\in[0,1] \\}\n",
    "\\end{align}\n",
    "$$"
   ]
  },
  {
   "attachments": {},
   "cell_type": "markdown",
   "metadata": {},
   "source": [
    "## Task6-2\n",
    "2. **(2 points)**\n",
    " Calculate the ideal and nadir vectors for the above bi-objective problem. You can use any method available."
   ]
  },
  {
   "attachments": {},
   "cell_type": "markdown",
   "metadata": {},
   "source": [
    "## Solution6-2\n",
    "\n",
    "### Ideal\n",
    "$$\n",
    "\\begin{align}\n",
    "\\min f_1(x) \\rightarrow f_1((1,0)) = 0\\\\\n",
    "\\min f_2(x) \\rightarrow f_2((0,1)) = 0\\\\\n",
    "z^{ideal} = (0,0)^T\\\\\n",
    "\\end{align}\n",
    "$$\n",
    "\n",
    "### nadir\n",
    "$$\n",
    "\\begin{align}\n",
    "\\max f_1(x) \\rightarrow f_1((0,1)) = 2\\\\\n",
    "\\max f_2(x) \\rightarrow f_2((1,0)) = 2\\\\\n",
    "z^{nadir} = (2,2)^T\\\\\n",
    "\\end{align}\n",
    "$$"
   ]
  },
  {
   "attachments": {},
   "cell_type": "markdown",
   "metadata": {},
   "source": [
    "## Task6-3\n",
    "\n",
    "\n",
    "3. **(2 points)** Try to generate a representative set of Pareto optimal solutions using the weighting method for the above two objective problem. Compare this set to the set of Pareto optimal solutions from task 1. What do you notice?"
   ]
  },
  {
   "cell_type": "code",
   "execution_count": 11,
   "metadata": {},
   "outputs": [],
   "source": [
    "#import\n",
    "import numpy as np\n",
    "import ad\n",
    "from scipy.optimize import minimize"
   ]
  },
  {
   "attachments": {},
   "cell_type": "markdown",
   "metadata": {},
   "source": [
    "### define function"
   ]
  },
  {
   "cell_type": "code",
   "execution_count": 7,
   "metadata": {},
   "outputs": [
    {
     "name": "stdout",
     "output_type": "stream",
     "text": [
      "[2.0000000000000004, 0.0]\n"
     ]
    }
   ],
   "source": [
    "\n",
    "# norm squared\n",
    "def f(x):\n",
    "    return [np.linalg.norm(x-(1,0))**2,np.linalg.norm(x-(0,1))**2]\n",
    "\n",
    "x_nadir = np.array([0,1])\n",
    "print( f(x_nadir))"
   ]
  },
  {
   "attachments": {},
   "cell_type": "markdown",
   "metadata": {},
   "source": [
    "### weighting method"
   ]
  },
  {
   "cell_type": "code",
   "execution_count": 25,
   "metadata": {},
   "outputs": [],
   "source": [
    "\n",
    "def weighting_method(f,w):\n",
    "    points = []\n",
    "    start = [0,0] #starting values for the variables\n",
    "    #bounds = ((-20,-20),(20,20)) #variable bounds of the problem \n",
    "    for wi in w:\n",
    "        res=minimize(\n",
    "            #weighted sum\n",
    "            lambda x: sum(np.array(wi)*np.array(f(x))), \n",
    "            start, method='SLSQP',\n",
    "            #Jacobian using automatic differentiation\n",
    "            jac=ad.gh(lambda x: sum(np.array(wi)*np.array(f(x))))[0],\n",
    "            #bounds given above\n",
    "            #bounds = bounds,\n",
    "            options = {'disp':False})\n",
    "        points.append(res.x)\n",
    "    return points\n"
   ]
  },
  {
   "cell_type": "code",
   "execution_count": 26,
   "metadata": {},
   "outputs": [
    {
     "name": "stdout",
     "output_type": "stream",
     "text": [
      "500\n"
     ]
    }
   ],
   "source": [
    "w = np.random.random((500,2)) #random weights\n",
    "wn = w\n",
    "# normalization\n",
    "for i in range(len(w)):\n",
    "    s = sum(w[i])\n",
    "    for j in range(2):\n",
    "        wn[i][j] = w[i][j]/s\n",
    "repr_ws = weighting_method(f,wn)\n",
    "print(len(repr_ws))"
   ]
  },
  {
   "attachments": {},
   "cell_type": "markdown",
   "metadata": {},
   "source": [
    "### virtualization"
   ]
  },
  {
   "cell_type": "code",
   "execution_count": null,
   "metadata": {},
   "outputs": [],
   "source": [
    "\n",
    "import matplotlib.pyplot as plt\n",
    "def visualize_representation(func,repr):\n",
    "    f_repr_ws = [f(repri) for repri in repr]\n",
    "    fig = plt.figure()\n",
    "    plt.scatter([z[0] for z in f_repr_ws],[z[1] for z in f_repr_ws])\n",
    "    return plt\n",
    "def visualize_decisions(repr):\n",
    "    fig = plt.figure()\n",
    "    plt.scatter([x[0] for x in repr],[x[1] for x in repr])\n",
    "    return plt\n"
   ]
  },
  {
   "attachments": {},
   "cell_type": "markdown",
   "metadata": {},
   "source": [
    "### results"
   ]
  },
  {
   "cell_type": "code",
   "execution_count": 27,
   "metadata": {},
   "outputs": [
    {
     "name": "stdout",
     "output_type": "stream",
     "text": [
      "<class 'list'>\n"
     ]
    },
    {
     "data": {
      "image/png": "[encoded data removed]",
      "text/plain": [
       "<Figure size 640x480 with 1 Axes>"
      ]
     },
     "metadata": {},
     "output_type": "display_data"
    },
    {
     "data": {
      "text/plain": [
       "<module 'matplotlib.pyplot' from 'c:\\\\Programs\\\\Python\\\\Python310\\\\lib\\\\site-packages\\\\matplotlib\\\\pyplot.py'>"
      ]
     },
     "execution_count": 27,
     "metadata": {},
     "output_type": "execute_result"
    },
    {
     "data": {
      "image/png": "[encoded data removed]",
      "text/plain": [
       "<Figure size 640x480 with 1 Axes>"
      ]
     },
     "metadata": {},
     "output_type": "display_data"
    }
   ],
   "source": [
    "print(type(repr_ws))\n",
    "visualize_decisions(repr_ws).show()\n",
    "visualize_representation(f,repr_ws)"
   ]
  },
  {
   "attachments": {},
   "cell_type": "markdown",
   "metadata": {},
   "source": [
    "### What do you notice?\n",
    "The weighting method can find all the Pareto optimal solutions because the objective functions are convex and the feasible set \n",
    "is convex."
   ]
  },
  {
   "attachments": {},
   "cell_type": "markdown",
   "metadata": {},
   "source": [
    "## Task6-4\n",
    "\n",
    "\n",
    "4. **(2 points)** Show\\\n",
    "  4.1. that an optimal solution to the weighting method is Pareto optimal, if the weights $w_i>0$ for all $i=1,\\ldots,k$, and\\\n",
    "  4.2. that an optimal solution $x^*$ to the epsilon constraint method is Pareto optimal, if it is an optimal solution to the epsilon constraint method for all $j=1,\\ldots,k$ and $\\epsilon=f(x^*)$."
   ]
  },
  {
   "attachments": {},
   "cell_type": "markdown",
   "metadata": {},
   "source": [
    "## Solution6-4\n",
    "\n",
    "### Solution6-4-1\n",
    "\n",
    "<i>ref: </i><br>\n",
    "[1]https://pdfs.semanticscholar.org/0bd0/8c5bb8ee851d5ad0ca8d4a8eb820d007409f.pdf\\\n",
    "[2]Makela and Neittaanmaki (1992, p. 39) and Clarke (1983, pp. 38-39).\n",
    "\n",
    "The problem can be noted as \n",
    "$$\n",
    "\\begin{align}\n",
    "&\\min \\sum_{i=1}^{k} w_if_i(x) \\\\\n",
    "&\\text{s.t.} \\quad x \\in S\n",
    "\\end{align}\n",
    "$$\n",
    "The proof is achieved by contradiction considering a solution with all positive weights and that is not Pareto-optimal and showing that this brings to a contradiction.[1]\n",
    "\n",
    "assume $x^*$ is not Pareto optimal then there exists $x \\in S$ \n",
    "\n",
    "\n",
    "$$\n",
    "\\begin{align}\n",
    "&\\sum_{i=1}^{k} w_if_i(x) = \\sum_{i\\neq j}^{} w_if_i(x) +  w_jf_j(x) \\\\\n",
    "&\\sum_{i=1}^{k} w_if_i(x) < \\sum_{i\\neq j}^{} w_if_i(x^*) +  w_jf_j(x^*)\\\\\n",
    "&\\sum_{i=1}^{k} w_if_i(x) = \\sum_{i=1}^{k} w_if_i(x^*) \\\\\n",
    "& \\therefore x^* \\text{ is Pareto optimal}\n",
    "\\end{align}\n",
    "$$\n"
   ]
  }
 ],
 "metadata": {
  "kernelspec": {
   "display_name": "Python 3",
   "language": "python",
   "name": "python3"
  },
  "language_info": {
   "codemirror_mode": {
    "name": "ipython",
    "version": 3
   },
   "file_extension": ".py",
   "mimetype": "text/x-python",
   "name": "python",
   "nbconvert_exporter": "python",
   "pygments_lexer": "ipython3",
   "version": "3.10.9"
  },
  "orig_nbformat": 4,
  "vscode": {
   "interpreter": {
    "hash": "fc8182279ce6cdaca7fef62ed808d7afcd3782c73d9f961457aec6b24baf3452"
   }
  }
 },
 "nbformat": 4,
 "nbformat_minor": 2
}
