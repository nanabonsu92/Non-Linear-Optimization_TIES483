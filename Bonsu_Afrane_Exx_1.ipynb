{
  "cells": [
    {
      "cell_type": "markdown",
      "metadata": {
        "id": "PxXKRo32kgYf"
      },
      "source": [
        "Qustion 1\n",
        "\n",
        "1. Implement (on Python) a function that calculates a continuous approximation of the grade of this course (grading rules given in the first lecture). That is, the function takes as input the number of points received in the course and the maximal number of points and gives as output a value so that the integer part of that is the grade.\n",
        "\n",
        "For example, the output would be of maximal points 20 and 13 points, could be 2.5, and, thus, the grade is 2. Note that you can make the function linear. Add also checking for incorrect input.\n",
        "\n",
        "**Course Grading Criteria**\n",
        "Excercises will comprise **70%** of the points and the assignment will comprise **30%** of the points. We will use the following grading:\n",
        "* 90% or more of the points -> grade 5,\n",
        "* 80% or more of the points -> grade 4,\n",
        "* 70% or more of the points -> grade 3,\n",
        "* 60% or more of the points -> grade 2,\n",
        "* 50% or more of the points -> grade 1, and\n",
        "* Less than 50% of the points -> failed."
      ]
    },
    {
      "cell_type": "code",
      "execution_count": 1,
      "metadata": {
        "colab": {
          "base_uri": "https://localhost:8080/"
        },
        "id": "50WsxS9roDcQ",
        "outputId": "3d9a6364-8a61-4f00-868c-e838d3f9b7a9"
      },
      "outputs": [
        {
          "name": "stdout",
          "output_type": "stream",
          "text": [
            "Continuous approximation of the grade for 13 out of 100: 2.5\n"
          ]
        }
      ],
      "source": [
        "def continuous_grade(total_points, max_points):\n",
        "    # Checking for incorrect input\n",
        "    if total_points < 0 or total_points > max_points:\n",
        "        return \"Error: Invalid points or max points value.\"\n",
        "\n",
        "    # Calculating the percentage of points achieved\n",
        "    percentage = (total_points / max_points) * 100\n",
        "\n",
        "    # Determining the grade based on the percentage\n",
        "    if percentage >= 90:\n",
        "        grade = 5\n",
        "    elif percentage >= 80:\n",
        "        grade = 4 + (percentage - 80)/10\n",
        "    elif percentage >= 70:\n",
        "        grade = 3 + (percentage - 70)/10\n",
        "    elif percentage >= 60:\n",
        "        grade = 2 + (percentage - 60)/10\n",
        "    elif percentage >= 50:\n",
        "        grade = 1 + (percentage - 50)/10\n",
        "    else:\n",
        "        grade = 0\n",
        "\n",
        "    return grade\n",
        "\n",
        "# Example usage\n",
        "total_points_example = 13  # Example for total points\n",
        "print(\"Continuous approximation of the grade for 13 out of 100:\", continuous_grade(total_points_example,20 ))  # Example for task 1\n"
      ]
    },
    {
      "cell_type": "code",
      "execution_count": 2,
      "metadata": {
        "colab": {
          "base_uri": "https://localhost:8080/"
        },
        "id": "smWg12XAoK1E",
        "outputId": "2db312fe-81dd-4203-ec0a-62dcde39dcdc"
      },
      "outputs": [
        {
          "name": "stdout",
          "output_type": "stream",
          "text": [
            "Continuous approximation of the grade for 13 out of 100: 2.5\n"
          ]
        }
      ],
      "source": [
        "# Example usage\n",
        "total_points_example = 13  # Example for total points\n",
        "print(\"Continuous approximation of the grade for 13 out of 100:\", continuous_grade(total_points_example, 20))  # Example for task 1"
      ]
    },
    {
      "cell_type": "markdown",
      "metadata": {
        "id": "bcBB-dmIz3fB"
      },
      "source": [
        "Question 2\n",
        "\n",
        "2. Make a script that finds the minimum number of points that gives a given grade. That is, your script should take as input the maximal number of points and the desired grade. Your solution has to call the function defined in task 1 above. Add also checking for incorrect input."
      ]
    },
    {
      "cell_type": "code",
      "execution_count": 22,
      "metadata": {
        "colab": {
          "base_uri": "https://localhost:8080/"
        },
        "id": "0j9IKcNtytpF",
        "outputId": "65b869d9-305d-47c9-cd26-c7ebf9867ed6"
      },
      "outputs": [
        {
          "name": "stdout",
          "output_type": "stream",
          "text": [
            "Minimum points for continuous grade 2.5 with max points 90: 59\n"
          ]
        }
      ],
      "source": [
        "def find_minimum_points_for_continuous_grade(desired_grade, max_points):\n",
        "    \n",
        "    # Checking for incorrect input\n",
        "    if not isinstance(desired_grade, (int, float)) or not isinstance(max_points, (float, int)):\n",
        "        return \"Error: Desired grade and max points must be integers.\"\n",
        "    if desired_grade < 0 or desired_grade > 5 or max_points <= 0:\n",
        "        return \"Error: Invalid desired grade or max points value.\"\n",
        "\n",
        "    # Iterating through possible points to find the minimum required for the desired grade\n",
        "    for points in range(max_points + 1):\n",
        "        if (continuous_grade(points, max_points)) >= desired_grade:\n",
        "            return points\n",
        "\n",
        "    return \"No possible points found for the desired grade.\"\n",
        "\n",
        "# Example usage of finding minimum points\n",
        "max_points_example = 90  # Example for maximum points\n",
        "desired_grade_example = 2.5  # Example for desired grade\n",
        "min_points = find_minimum_points_for_continuous_grade(desired_grade_example, max_points_example)\n",
        "print(f\"Minimum points for continuous grade {desired_grade_example} with max points {max_points_example}: {min_points}\")\n"
      ]
    },
    {
      "cell_type": "code",
      "execution_count": 11,
      "metadata": {
        "colab": {
          "base_uri": "https://localhost:8080/"
        },
        "id": "pVi3I06I2hUt",
        "outputId": "22a5ad4c-f1d2-46e5-ad34-cc5794cb0c0b"
      },
      "outputs": [
        {
          "name": "stdout",
          "output_type": "stream",
          "text": [
            "Minimum points for continuous grade 5 with max points 100: Error: Desired grade and max points must be integers.\n"
          ]
        }
      ],
      "source": [
        "# Example usage of finding minimum points\n",
        "max_points = 100  # Example for maximum points\n",
        "desired_grade = 5  # Example for desired grade\n",
        "min_points_error = find_minimum_points_for_continuous_grade(desired_grade_example, max_points_example)\n",
        "print(f\"Minimum points for continuous grade {desired_grade_example} with max points {max_points_example}: {min_points_error}\")"
      ]
    }
  ],
  "metadata": {
    "colab": {
      "provenance": []
    },
    "kernelspec": {
      "display_name": "Python 3",
      "name": "python3"
    },
    "language_info": {
      "codemirror_mode": {
        "name": "ipython",
        "version": 3
      },
      "file_extension": ".py",
      "mimetype": "text/x-python",
      "name": "python",
      "nbconvert_exporter": "python",
      "pygments_lexer": "ipython3",
      "version": "3.10.9"
    }
  },
  "nbformat": 4,
  "nbformat_minor": 0
}
