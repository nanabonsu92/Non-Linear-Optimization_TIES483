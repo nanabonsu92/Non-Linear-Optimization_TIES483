{
 "cells": [
  {
   "cell_type": "markdown",
   "metadata": {},
   "source": [
    "Questions 1\n",
    "1. (2 points) Assume that you are buying and selling electricity. The more electricity you buy, the better \n",
    "price you get per kwH and the buying price of electricity follows function f(x)=1−0.01x, where 0 ≤ x ≤ \n",
    "50 is the amount of electricity you buy. On the other hand, the price that you get from selling electricity \n",
    "follows the function g(x)=2−0.01x^2 with x again the amount of electricity that you sell. Formulate an \n",
    "optimization problem that maximizes the profit."
   ]
  },
  {
   "cell_type": "markdown",
   "metadata": {},
   "source": [
    "Solution 1\n",
    "\n",
    "#Constarints:   unit of electricity = x, \n",
    "\n",
    "                buying price\n",
    "                f(x) = 1 - 0.01x, \n",
    "                \n",
    "                selling  price\n",
    "                g(x) = 2 - 0.01x^2\n",
    "\n",
    "P(x) = x (g(x) - f(x))\n",
    "     = x (2 - 0.01x^2 - 1 + 0.01x)\n",
    "     = x (1 - 0.01x^2 + 0.01x)\n",
    "\n",
    "max P(x) = x (1 - 0.01x^2 + 0.01x)\n",
    "s.t. 0 <= x <= 50\n"
   ]
  },
  {
   "cell_type": "markdown",
   "metadata": {},
   "source": [
    "Question 2\n",
    "\n",
    "2. (2 points) Use bisection search to optimize the problem\n",
    "min (1 − x)^2 + x\n",
    "st x ∈ [0,2]\n",
    "Code the search algorithm by yourself, not use the one shown in the lecture material."
   ]
  },
  {
   "cell_type": "markdown",
   "metadata": {},
   "source": [
    "Solution 2\n",
    "\n",
    "The code shown in the lecture material compares the middle point m at f(m + epsilon) > f(m – epsilon) to \n",
    "decide the function monotonicity. It is difficult to be creative about simple methods, yet, I used the slope of function \n",
    "to decide the function monotonicity which I believe share the same idea."
   ]
  },
  {
   "cell_type": "markdown",
   "metadata": {},
   "source": [
    "Python code  for Question 2\n",
    "\n",
    "We begin by defining the function f(x);\n",
    "Next, we find the function monotonicity, when increasing implies the slope will be greater than 0\n",
    "Also, the bisection logic means if function f(x) at middle point mid is increasing, then we cut the end point to \n",
    "the middle, if it is decreasing, then we let the start point be the middle point.\n",
    "\n",
    "#This method it can only be used to find local minimum, if you want to find the maximum, you \n",
    "need to let the start point be the middle point if it is increasing. \n",
    "\n",
    "Using loop and recursion method to implement bisection as presented in the following code:"
   ]
  },
  {
   "cell_type": "code",
   "execution_count": 1,
   "metadata": {},
   "outputs": [
    {
     "name": "stdout",
     "output_type": "stream",
     "text": [
      "optimum is 0.5004999999999953, function value is 0.75000025\n"
     ]
    }
   ],
   "source": [
    "def f(x):\n",
    "    return (1.0 - x)**2 + x\n",
    "\n",
    "def monotonicity(f, x1, delta):\n",
    "    #lim([f(x1) - f(x1 - delta)]/ delta) when delta -> 0,\n",
    "    #if the limit is greater than 0, then, the function is increasing,\n",
    "    y = (f(x1) - f(x1 - delta)) / delta\n",
    "    if y > 0: return 1          #function increasing\n",
    "    elif y == 0: return 0       #it is not likely function will find extreme point because delta! = 0\n",
    "    else: return -1             #function decreasing\n",
    "\n",
    "\"\"\"In order to find the optimal,\n",
    "we set the start point of the function as parameter: a\n",
    "we set the end point of the function as parameter: b \"\"\"\n",
    "\n",
    "def find_min_bisection(a, b, f, delta):\n",
    "    start = a\n",
    "    end = b\n",
    "    while start < end:\n",
    "        mid = (start + end) / 2\n",
    "        increasing = monotonicity(f, mid, delta)\n",
    "        if increasing == 1:\n",
    "            end = mid + delta\n",
    "        elif increasing == -1:\n",
    "            start = mid - delta\n",
    "        else:\n",
    "            return mid\n",
    "        return (start + end) / 2\n",
    "    \n",
    "def recursion_bisection_min(a, b, f, delta):\n",
    "    start = a\n",
    "    end = b\n",
    "    mid = (start + end) / 2\n",
    "    increasing = monotonicity(f, mid, delta)\n",
    "\n",
    "    if increasing == 1:\n",
    "        end = mid + delta\n",
    "        return recursion_bisection_min(start, end, f, delta)\n",
    "    elif increasing == -1:\n",
    "        start = mid - delta\n",
    "        return recursion_bisection_min(start, end, f, delta)\n",
    "    else:\n",
    "        return mid\n",
    "    \n",
    "x = recursion_bisection_min(0.00, 5.0, f, 0.001);\n",
    "print(\"optimum is \" + str(x) +\", function value is \" + str(f(x)))"
   ]
  },
  {
   "cell_type": "markdown",
   "metadata": {},
   "source": [
    "Test Result for Question 2\n",
    "\n",
    "The result meets the math validation.\n",
    "optimum is 0.5004999999999953, function value is 0.75000025"
   ]
  }
 ],
 "metadata": {
  "kernelspec": {
   "display_name": "Python 3",
   "language": "python",
   "name": "python3"
  },
  "language_info": {
   "codemirror_mode": {
    "name": "ipython",
    "version": 3
   },
   "file_extension": ".py",
   "mimetype": "text/x-python",
   "name": "python",
   "nbconvert_exporter": "python",
   "pygments_lexer": "ipython3",
   "version": "3.10.9"
  }
 },
 "nbformat": 4,
 "nbformat_minor": 2
}
