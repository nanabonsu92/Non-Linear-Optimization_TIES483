{
 "cells": [
  {
   "cell_type": "markdown",
   "metadata": {},
   "source": [
    "Questions 1\n",
    "1. (2 points) Assume that you are buying and selling electricity. The more electricity you buy, the better \n",
    "price you get per kwH and the buying price of electricity follows function f(x)=1−0.01x, where 0 ≤ x ≤ \n",
    "50 is the amount of electricity you buy. On the other hand, the price that you get from selling electricity \n",
    "follows the function g(x)=2−0.01x^2 with x again the amount of electricity that you sell. Formulate an \n",
    "optimization problem that maximizes the profit."
   ]
  },
  {
   "cell_type": "markdown",
   "metadata": {},
   "source": [
    "Solution 1\n",
    "\n",
    "#Constriants:   unit of electricity = x, \n",
    "\n",
    "                buying price\n",
    "                f(x) = 1 - 0.01x, \n",
    "                \n",
    "                selling  price\n",
    "                g(x) = 2 - 0.01x^2\n",
    "\n",
    "P(x) = x (g(x) - f(x))\n",
    "\n",
    "     = x (2 - 0.01x^2 - 1 + 0.01x)\n",
    "     \n",
    "     = x (1 - 0.01x^2 + 0.01x)\n",
    "\n",
    "max P(x) = x (1 - 0.01x^2 + 0.01x)\n",
    "\n",
    "s.t. 0 <= x <= 50\n"
   ]
  },
  {
   "cell_type": "markdown",
   "metadata": {},
   "source": [
    "Question 2\n",
    "\n",
    "2. (2 points) Use bisection search to optimize the problem\n",
    "min (1 − x)^2 + x\n",
    "st x ∈ [0,2]\n",
    "Code the search algorithm by yourself, not use the one shown in the lecture material."
   ]
  },
  {
   "cell_type": "markdown",
   "metadata": {},
   "source": [
    "Solution 2\n",
    "\n",
    "The code shown in the lecture material compares the middle point m at f(m + epsilon) > f(m – epsilon) to \n",
    "decide the function monotonicity. It is difficult to be creative about simple methods, yet, I used the slope of function \n",
    "to decide the function monotonicity which I believe share the same idea."
   ]
  },
  {
   "cell_type": "markdown",
   "metadata": {},
   "source": [
    "Python code  for Question 2\n",
    "\n",
    "We begin by defining the function f(x);\n",
    "Next, we find the function monotonicity, when increasing implies the slope will be greater than 0\n",
    "Also, the bisection logic means if function f(x) at middle point mid is increasing, then we cut the end point to \n",
    "the middle, if it is decreasing, then we let the start point be the middle point.\n",
    "\n",
    "#This method it can only be used to find local minimum, if you want to find the maximum, you \n",
    "need to let the start point be the middle point if it is increasing. \n",
    "\n",
    "Using loop and recursion method to implement bisection as presented in the following code:"
   ]
  },
  {
   "cell_type": "code",
   "execution_count": 5,
   "metadata": {},
   "outputs": [
    {
     "name": "stdout",
     "output_type": "stream",
     "text": [
      "optimum is 0.5004999999999953, function value is 0.75000025\n"
     ]
    }
   ],
   "source": [
    "def f(x):\n",
    "    return (1.0-x)**2 + x\n",
    "\n",
    "def monotonicity(f, x1, delta):\n",
    "    #lim([f(x1) - f(x1 - delta)]/ delta) when delta -> 0,\n",
    "    #if the limit is greater than 0, then, the function is increasing,\n",
    "    y = (f(x1) - f(x1-delta))/delta\n",
    "    if y > 0: return 1          #function increasing\n",
    "    elif y == 0: return 0       #it is not likely function will find extreme point because delta! = 0\n",
    "    else: return -1             #function decreasing\n",
    "\n",
    "\"\"\"In order to find the optimal,\n",
    "we set the start point of the function as parameter: a\n",
    "we set the end point of the function as parameter: b \"\"\"\n",
    "\n",
    "def find_min_bisection(a, b, f, delta):\n",
    "    start = a\n",
    "    end = b\n",
    "    while start < end:\n",
    "        mid = (start+end)/2\n",
    "        increasing = monotonicity(f, mid, delta)\n",
    "        if increasing == 1:\n",
    "            end = mid+delta\n",
    "        elif increasing == -1:\n",
    "            start = mid-delta\n",
    "        else:\n",
    "            return mid\n",
    "        return (start+end)/2\n",
    "    \n",
    "def recursion_bisection_min(a, b, f, delta):\n",
    "    start = a\n",
    "    end = b\n",
    "    mid = (start+end)/2\n",
    "    increasing = monotonicity(f, mid, delta)\n",
    "\n",
    "    if increasing == 1:\n",
    "        end = mid+delta\n",
    "        return recursion_bisection_min(start, end, f, delta)\n",
    "    elif increasing == -1:\n",
    "        start = mid-delta\n",
    "        return recursion_bisection_min(start, end, f, delta)\n",
    "    else:\n",
    "        return mid\n",
    "    \n",
    "x = recursion_bisection_min(0.00, 5.0, f, 0.001);\n",
    "print(\"optimum is \" + str(x) +\", function value is \" + str(f(x)))"
   ]
  },
  {
   "cell_type": "markdown",
   "metadata": {},
   "source": [
    "Test Result for Question 2\n",
    "\n",
    "The result meets the math validation.\n",
    "optimum is 0.5004999999999953, function value is 0.75000025"
   ]
  },
  {
   "cell_type": "markdown",
   "metadata": {},
   "source": [
    "Question 3\n",
    "\n",
    "3. (2 points) Use the golden section search to optimize the problem from the above exercise. Code the \n",
    "search algorithm by yourself, not use the one shown in the lecture material."
   ]
  },
  {
   "cell_type": "markdown",
   "metadata": {},
   "source": [
    "### Solution 3\n",
    "\n",
    "The changes is using slope to decide the monotonicity by using slop function \n",
    "k = (y2 − y1)/(x2 − x1)\n",
    "\n",
    "The first golden point d (x2,y2), the second golden point near the start point 'a' will be c(x1,y1);\n",
    "and we know x1 and x2 by using the proportional function \n",
    "x1 = a + ((√5 − 1) / 2) * (b - a)       \n",
    "                                        #where a and b is the chosen point\n",
    "x2 = b − ((√5 − 1) / 2) * (b - a)\n"
   ]
  },
  {
   "cell_type": "code",
   "execution_count": 6,
   "metadata": {},
   "outputs": [
    {
     "name": "stdout",
     "output_type": "stream",
     "text": [
      "optimum is 9.167184270002526, function value is 75.87008317017921\n"
     ]
    }
   ],
   "source": [
    "import math\n",
    "\n",
    "R = (math.sqrt(5)-1) * 0.5\n",
    "\n",
    "def f(x):\n",
    "    return (1.0-x) ** 2 + x\n",
    "\n",
    "def monotonicity(x1, y1, x2, y2):\n",
    "    slope = (y2-y1)/(x2-x1)\n",
    "    if slope > 0: return 1\n",
    "    elif slope < 0: return -1\n",
    "    else: return 0\n",
    "\n",
    "def golden_section_min(a, b, f, delta):\n",
    "    start = a\n",
    "    end = b\n",
    "    while start < end:\n",
    "        d = start+R * (end-start)\n",
    "        c = end-R * (end-start)\n",
    "        increasing = monotonicity(c, f(c), d, f(d))\n",
    "        if increasing == 1:\n",
    "            end = d\n",
    "        elif increasing == -1:\n",
    "            start = c\n",
    "        else:\n",
    "            return d\n",
    "        return start+R * (end-start)\n",
    "\n",
    "def g(x):\n",
    "    return (x-10) ** 2+10\n",
    "\n",
    "x = golden_section_min(0.0, 24.0, f, 0.001);\n",
    "print(\"optimum is \" + str(x) +\", function value is \" + str(f(x)))"
   ]
  },
  {
   "cell_type": "markdown",
   "metadata": {},
   "source": [
    "This is result of function f,\n",
    "optimum is 9.167184270002526, function value is 75.87008317017921"
   ]
  },
  {
   "cell_type": "markdown",
   "metadata": {},
   "source": [
    "### Question 4\n",
    "\n",
    "<p>\n",
    "(2 points) Use differentiation/derivation to optimize the optimization problem of task 1 (above) \n",
    "and to verify the answer of the optimization problem in task 2 (above).\n",
    "</p>"
   ]
  },
  {
   "cell_type": "markdown",
   "metadata": {},
   "source": [
    "### Solution 4\n",
    "\n",
    "$$\n",
    "\\begin{align}\n",
    "4.1 \\quad the \\quad optimization \\quad problem \\quad of \\quad task \\quad 1\\\\\n",
    "\n",
    "max P(x) = x (1 - 0.01x^2 + 0.01x)\\\\\n",
    "s.t. 0 <= x <= 50\\\\\n",
    "P'(x) = f'(x)g(x) + f(x)g'(x) = 1 * (1 - 0.001x^2 + 0.01x) + x * (0.01 - 0.02x)\\\\\n",
    "P'(x) = -0.01x^2 + x(0.01 - 0.02x) + 0.01x + 1\\\\\n",
    "P'(x) = -0.03x^2 + 0.02x + 1\\\\\n",
    "P\"(x) = 0.02 - 0.06x\\\\\n",
    "\n",
    "∴ when \\quad P'(x) = 0, \\quad at \\quad x = 1/2 \\quad had \\quad a \\quad maximal \\quad P(x) = 21/5\\\\\n",
    "\\\\\n",
    "\n",
    "4.2 Optimization \\quad problem \\quad in \\quad task \\quad 2\\\\\n",
    "\n",
    "min f(x) = (1 - x)^2 + x\\\\\n",
    "st  x ∈ [0, 2]\\\\\n",
    "f'(x) = 2x - 1\\\\\n",
    "f\"(x) = 2 > 0\\\\\n",
    "when f'(x) = 0, \\quad x = 1/2 \\quad had \\quad a  \\quad minimal \\quad f(x) = 3/4.\\\\\n",
    "\\end{align}"
   ]
  }
 ],
 "metadata": {
  "kernelspec": {
   "display_name": "Python 3",
   "language": "python",
   "name": "python3"
  },
  "language_info": {
   "codemirror_mode": {
    "name": "ipython",
    "version": 3
   },
   "file_extension": ".py",
   "mimetype": "text/x-python",
   "name": "python",
   "nbconvert_exporter": "python",
   "pygments_lexer": "ipython3",
   "version": "3.10.9"
  }
 },
 "nbformat": 4,
 "nbformat_minor": 2
}
